{
 "cells": [
  {
   "cell_type": "code",
   "execution_count": null,
   "id": "2f9cf51e",
   "metadata": {},
   "outputs": [
    {
     "name": "stdout",
     "output_type": "stream",
     "text": [
      "['10_Oct_2024_03-28__tau_24', '10_Oct_2024_04-37__tau_30', '10_Oct_2024_04-38__tau_18', '10_Oct_2024_04-39__tau_27', '10_Oct_2024_04-40__tau_18', '10_Oct_2024_04-40__tau_21', '10_Oct_2024_04-40__tau_27', '10_Oct_2024_04-40__tau_33', '10_Oct_2024_04-41__tau_15', '10_Oct_2024_04-41__tau_24', '10_Oct_2024_04-41__tau_30', '10_Oct_2024_04-41__tau_36', '10_Oct_2024_04-42__tau_21', '10_Oct_2024_04-43__tau_15', '10_Oct_2024_04-44__tau_33', '19_Sep_2024_04-56__tau_15', '19_Sep_2024_10-51__tau_18', '19_Sep_2024_11-26__tau_21', '19_Sep_2024_11-57__tau_24', '19_Sep_2024_12-00__tau_27', '19_Sep_2024_12-26__tau_30', '19_Sep_2024_12-46__tau_36', '19_Sep_2024_12-49__tau_33', '26_Nov_2024_12-30__tau_15', '26_Nov_2024_14-50__tau_18', '26_Nov_2024_14-59__tau_21', '30_Sep_2024_09-55__tau_15', '30_Sep_2024_10-02__tau_18', '30_Sep_2024_10-07__tau_30', '30_Sep_2024_10-08__tau_21', '30_Sep_2024_10-08__tau_27', '30_Sep_2024_10-08__tau_36', '30_Sep_2024_10-11__tau_33', '30_Sep_2024_10-12__tau_24']\n",
      "Moving 10_Oct_2024_03-28__tau_24 to case_0/c0_t24__2024_10_10_03-28\n",
      "Moving 10_Oct_2024_04-37__tau_30 to case_0/c0_t30__2024_10_10_04-37\n",
      "Moving 10_Oct_2024_04-38__tau_18 to case_0/c0_t18__2024_10_10_04-38\n",
      "Moving 10_Oct_2024_04-39__tau_27 to case_0/c0_t27__2024_10_10_04-39\n",
      "Moving 10_Oct_2024_04-40__tau_18 to case_0/c0_t18__2024_10_10_04-40\n",
      "Moving 10_Oct_2024_04-40__tau_21 to case_0/c0_t21__2024_10_10_04-40\n",
      "Moving 10_Oct_2024_04-40__tau_27 to case_0/c0_t27__2024_10_10_04-40\n",
      "Moving 10_Oct_2024_04-40__tau_33 to case_0/c0_t33__2024_10_10_04-40\n",
      "Moving 10_Oct_2024_04-41__tau_15 to case_0/c0_t15__2024_10_10_04-41\n",
      "Moving 10_Oct_2024_04-41__tau_24 to case_0/c0_t24__2024_10_10_04-41\n",
      "Moving 10_Oct_2024_04-41__tau_30 to case_0/c0_t30__2024_10_10_04-41\n",
      "Moving 10_Oct_2024_04-41__tau_36 to case_0/c0_t36__2024_10_10_04-41\n",
      "Moving 10_Oct_2024_04-42__tau_21 to case_0/c0_t21__2024_10_10_04-42\n",
      "Moving 10_Oct_2024_04-43__tau_15 to case_0/c0_t15__2024_10_10_04-43\n",
      "Moving 10_Oct_2024_04-44__tau_33 to case_0/c0_t33__2024_10_10_04-44\n",
      "Moving 19_Sep_2024_04-56__tau_15 to case_0/c0_t15__2024_09_19_04-56\n",
      "Moving 19_Sep_2024_10-51__tau_18 to case_0/c0_t18__2024_09_19_10-51\n",
      "Moving 19_Sep_2024_11-26__tau_21 to case_0/c0_t21__2024_09_19_11-26\n",
      "Moving 19_Sep_2024_11-57__tau_24 to case_0/c0_t24__2024_09_19_11-57\n",
      "Moving 19_Sep_2024_12-00__tau_27 to case_0/c0_t27__2024_09_19_12-00\n",
      "Moving 19_Sep_2024_12-26__tau_30 to case_0/c0_t30__2024_09_19_12-26\n",
      "Moving 19_Sep_2024_12-46__tau_36 to case_0/c0_t36__2024_09_19_12-46\n",
      "Moving 19_Sep_2024_12-49__tau_33 to case_0/c0_t33__2024_09_19_12-49\n",
      "Moving 26_Nov_2024_12-30__tau_15 to case_0/c0_t15__2024_11_26_12-30\n",
      "Moving 26_Nov_2024_14-50__tau_18 to case_0/c0_t18__2024_11_26_14-50\n",
      "Moving 26_Nov_2024_14-59__tau_21 to case_0/c0_t21__2024_11_26_14-59\n",
      "Moving 30_Sep_2024_09-55__tau_15 to case_0/c0_t15__2024_09_30_09-55\n",
      "Moving 30_Sep_2024_10-02__tau_18 to case_0/c0_t18__2024_09_30_10-02\n",
      "Moving 30_Sep_2024_10-07__tau_30 to case_0/c0_t30__2024_09_30_10-07\n",
      "Moving 30_Sep_2024_10-08__tau_21 to case_0/c0_t21__2024_09_30_10-08\n",
      "Moving 30_Sep_2024_10-08__tau_27 to case_0/c0_t27__2024_09_30_10-08\n",
      "Moving 30_Sep_2024_10-08__tau_36 to case_0/c0_t36__2024_09_30_10-08\n",
      "Moving 30_Sep_2024_10-11__tau_33 to case_0/c0_t33__2024_09_30_10-11\n",
      "Moving 30_Sep_2024_10-12__tau_24 to case_0/c0_t24__2024_09_30_10-12\n"
     ]
    }
   ],
   "source": [
    "import natsort\n",
    "import os\n",
    "import shutil\n",
    "\n",
    "path_to_here = '/Users/codykarcher/Dropbox/research/oso-airfoils/postprocessing/cases'\n",
    "\n",
    "folders = natsort.natsorted([f for f in os.listdir(path_to_here) if os.path.isdir(os.path.join(path_to_here, f))], alg=natsort.ns.IGNORECASE)\n",
    "print(folders)\n",
    "\n",
    "dct = {'Jan': '01', 'Feb': '02', 'Mar': '03', 'Apr': '04', 'May': '05', 'Jun': '06',\n",
    "       'Jul': '07', 'Aug': '08', 'Sep': '09', 'Oct': '10', 'Nov': '11', 'Dec': '12'}\n",
    "\n",
    "for i in range(101,0,-1):\n",
    "    # os.mkdir(path_to_here + '/case_%d'%(i))\n",
    "    for f in folders:\n",
    "        if ('case_%d'%(i) in f or 'c%d'%(i) in f) and len(f)>9:\n",
    "            chrs = f.split('_')\n",
    "            if len(chrs[0]) > 2 and 'case' in f:\n",
    "                newname = 'c'+ chrs[9] + '_' + 't' + chrs[6] + '_' + '_'.join([chrs[i] for i in [4,0,1,2,3]])\n",
    "            elif len(chrs[0]) > 2:\n",
    "                chrs = f.split('__')\n",
    "                newname = '__'.join([chrs[1], chrs[0]])\n",
    "            else:# 'case' in f:\n",
    "                newname = 'c'+ chrs[9] + '_' + 't' + chrs[6] + '_' + '_'.join([chrs[4],chrs[2],dct[chrs[1]],chrs[0],chrs[3]])\n",
    "                \n",
    "            print('Moving %s to case_%d/%s'%(f, i, newname))\n",
    "            # shutil.move(os.path.join(path_to_here, f), os.path.join(path_to_here, 'case_%d'%(i), newname))\n",
    "\n",
    "folders = natsort.natsorted([f for f in os.listdir(path_to_here) if os.path.isdir(os.path.join(path_to_here, f)) and 'case' not in f], alg=natsort.ns.IGNORECASE)\n",
    "print(folders)\n",
    "\n",
    "for f in folders:\n",
    "    # os.mkdir(os.path.join(path_to_here, 'case_0'))\n",
    "    chrs = f.split('_')\n",
    "    newname = 'c0_' + 't' + chrs[6] + '_' + '_'.join([chrs[4],chrs[2],dct[chrs[1]],chrs[0],chrs[3]])\n",
    "    print('Moving %s to case_0/%s'%(f, newname))\n",
    "    # shutil.move(os.path.join(path_to_here, f), os.path.join(path_to_here, 'case_0', newname))\n"
   ]
  }
 ],
 "metadata": {
  "kernelspec": {
   "display_name": "base",
   "language": "python",
   "name": "python3"
  },
  "language_info": {
   "codemirror_mode": {
    "name": "ipython",
    "version": 3
   },
   "file_extension": ".py",
   "mimetype": "text/x-python",
   "name": "python",
   "nbconvert_exporter": "python",
   "pygments_lexer": "ipython3",
   "version": "3.12.6"
  }
 },
 "nbformat": 4,
 "nbformat_minor": 5
}
